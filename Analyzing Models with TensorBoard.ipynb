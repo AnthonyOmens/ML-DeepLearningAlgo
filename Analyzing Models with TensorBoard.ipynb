{
 "cells": [
  {
   "cell_type": "code",
   "execution_count": 80,
   "id": "regional-scott",
   "metadata": {},
   "outputs": [
    {
     "name": "stdout",
     "output_type": "stream",
     "text": [
      "Epoch 1/10\n",
      "5/5 [==============================] - 2s 429ms/step - loss: 0.7580 - accuracy: 0.4887 - val_loss: 0.7135 - val_accuracy: 0.4333\n",
      "Epoch 2/10\n",
      "5/5 [==============================] - 0s 72ms/step - loss: 0.6977 - accuracy: 0.5034 - val_loss: 0.6947 - val_accuracy: 0.4333\n",
      "Epoch 3/10\n",
      "5/5 [==============================] - 0s 63ms/step - loss: 0.6884 - accuracy: 0.5091 - val_loss: 0.6992 - val_accuracy: 0.4333\n",
      "Epoch 4/10\n",
      "5/5 [==============================] - 0s 56ms/step - loss: 0.6806 - accuracy: 0.5238 - val_loss: 0.6765 - val_accuracy: 0.4333\n",
      "Epoch 5/10\n",
      "5/5 [==============================] - 0s 57ms/step - loss: 0.6647 - accuracy: 0.7486 - val_loss: 0.6527 - val_accuracy: 0.9667\n",
      "Epoch 6/10\n",
      "5/5 [==============================] - 0s 63ms/step - loss: 0.6442 - accuracy: 0.8439 - val_loss: 0.6333 - val_accuracy: 0.7000\n",
      "Epoch 7/10\n",
      "5/5 [==============================] - 0s 61ms/step - loss: 0.6114 - accuracy: 0.6698 - val_loss: 0.5931 - val_accuracy: 0.9167\n",
      "Epoch 8/10\n",
      "5/5 [==============================] - 0s 56ms/step - loss: 0.5605 - accuracy: 0.9831 - val_loss: 0.5181 - val_accuracy: 0.9500\n",
      "Epoch 9/10\n",
      "5/5 [==============================] - 0s 61ms/step - loss: 0.4935 - accuracy: 0.9553 - val_loss: 0.4419 - val_accuracy: 0.9500\n",
      "Epoch 10/10\n",
      "5/5 [==============================] - 0s 63ms/step - loss: 0.3992 - accuracy: 0.9380 - val_loss: 0.3591 - val_accuracy: 0.8667\n"
     ]
    },
    {
     "data": {
      "text/plain": [
       "<tensorflow.python.keras.callbacks.History at 0x22203cd0af0>"
      ]
     },
     "execution_count": 80,
     "metadata": {},
     "output_type": "execute_result"
    }
   ],
   "source": [
    "import tensorflow as tf\n",
    "#from tensorflow.keras.datasets import cifar10\n",
    "from tensorflow.keras.preprocessing.image import ImageDataGenerator\n",
    "from tensorflow.keras.models import Sequential\n",
    "from tensorflow.keras.layers import Dense, Dropout, Activation, Flatten\n",
    "from tensorflow.keras.layers import Conv2D, MaxPooling2D\n",
    "# more info on callbakcs: https://keras.io/callbacks/ model saver is cool too.\n",
    "from tensorflow.keras.callbacks import TensorBoard\n",
    "import pickle\n",
    "import time\n",
    "import numpy as np\n",
    "\n",
    "NAME = \"arabic-vs-english-Cnn64x2-{}\".format(int(time.time()))\n",
    "\n",
    "tensorboard = TensorBoard(log_dir='logs/{}'.format(NAME))\n",
    "\n",
    "#gpu_options = tf.GPUOptions(per_process_gpu_memory_fraction=0.333)\n",
    "gpu_options = tf.compat.v1.GPUOptions(per_process_gpu_memory_fraction = 0.333)\n",
    "sess = tf.compat.v1.Session(config=tf.compat.v1.ConfigProto(gpu_options=gpu_options))\n",
    "\n",
    "pickle_in = open(\"X.pickle\",\"rb\")\n",
    "X = pickle.load(pickle_in)\n",
    "\n",
    "pickle_in = open(\"y.pickle\",\"rb\")\n",
    "y = pickle.load(pickle_in)\n",
    "\n",
    "y = np.array(y)\n",
    "X = X/255.0\n",
    "\n",
    "model = Sequential()\n",
    "\n",
    "model.add(Conv2D(64, (3, 3), input_shape=X.shape[1:]))\n",
    "model.add(Activation('relu'))\n",
    "model.add(MaxPooling2D(pool_size=(2, 2)))\n",
    "\n",
    "model.add(Conv2D(64, (3, 3)))\n",
    "model.add(Activation('relu'))\n",
    "model.add(MaxPooling2D(pool_size=(2, 2)))\n",
    "\n",
    "\n",
    "model.add(Flatten())  # this converts our 3D feature maps to 1D feature vectors\n",
    "\n",
    "model.add(Dense(64))\n",
    "model.add(Activation('relu'))\n",
    "\n",
    "model.add(Dense(1))\n",
    "model.add(Activation('sigmoid'))\n",
    "\n",
    "model.compile(loss = 'binary_crossentropy', #binary_crossentropy categorical_crossentropy\n",
    "             optimizer = 'adam',\n",
    "             metrics = ['accuracy'])\n",
    "\n",
    "model.fit(X,y, batch_size = 32, epochs=10, validation_split = 0.3, callbacks = [tensorboard])"
   ]
  },
  {
   "cell_type": "code",
   "execution_count": null,
   "id": "solar-guarantee",
   "metadata": {},
   "outputs": [],
   "source": []
  },
  {
   "cell_type": "code",
   "execution_count": null,
   "id": "eight-somalia",
   "metadata": {},
   "outputs": [],
   "source": []
  },
  {
   "cell_type": "code",
   "execution_count": null,
   "id": "complete-dominican",
   "metadata": {},
   "outputs": [],
   "source": []
  },
  {
   "cell_type": "code",
   "execution_count": null,
   "id": "enormous-incentive",
   "metadata": {},
   "outputs": [],
   "source": []
  },
  {
   "cell_type": "code",
   "execution_count": null,
   "id": "norman-baker",
   "metadata": {},
   "outputs": [],
   "source": []
  },
  {
   "cell_type": "code",
   "execution_count": null,
   "id": "rental-latest",
   "metadata": {},
   "outputs": [],
   "source": []
  },
  {
   "cell_type": "code",
   "execution_count": null,
   "id": "derived-tourist",
   "metadata": {},
   "outputs": [],
   "source": []
  },
  {
   "cell_type": "code",
   "execution_count": null,
   "id": "immune-stockholm",
   "metadata": {},
   "outputs": [],
   "source": []
  },
  {
   "cell_type": "code",
   "execution_count": null,
   "id": "wired-local",
   "metadata": {},
   "outputs": [],
   "source": []
  },
  {
   "cell_type": "code",
   "execution_count": null,
   "id": "representative-debut",
   "metadata": {},
   "outputs": [],
   "source": []
  }
 ],
 "metadata": {
  "kernelspec": {
   "display_name": "Python 3 (ipykernel)",
   "language": "python",
   "name": "python3"
  },
  "language_info": {
   "codemirror_mode": {
    "name": "ipython",
    "version": 3
   },
   "file_extension": ".py",
   "mimetype": "text/x-python",
   "name": "python",
   "nbconvert_exporter": "python",
   "pygments_lexer": "ipython3",
   "version": "3.8.8"
  }
 },
 "nbformat": 4,
 "nbformat_minor": 5
}
