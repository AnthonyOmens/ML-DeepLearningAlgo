{
 "cells": [
  {
   "cell_type": "code",
   "execution_count": 36,
   "id": "identical-economy",
   "metadata": {},
   "outputs": [
    {
     "name": "stdout",
     "output_type": "stream",
     "text": [
      "Epoch 1/10\n",
      "6/6 [==============================] - 1s 92ms/step - loss: 0.9812 - accuracy: 0.5345 - val_loss: 0.6952 - val_accuracy: 0.5500\n",
      "Epoch 2/10\n",
      "6/6 [==============================] - 0s 60ms/step - loss: 0.6831 - accuracy: 0.5433 - val_loss: 0.7338 - val_accuracy: 0.4500\n",
      "Epoch 3/10\n",
      "6/6 [==============================] - 0s 59ms/step - loss: 0.6954 - accuracy: 0.4858 - val_loss: 0.6581 - val_accuracy: 0.5500\n",
      "Epoch 4/10\n",
      "6/6 [==============================] - 0s 65ms/step - loss: 0.6602 - accuracy: 0.4991 - val_loss: 0.6304 - val_accuracy: 0.8500\n",
      "Epoch 5/10\n",
      "6/6 [==============================] - 0s 60ms/step - loss: 0.6215 - accuracy: 0.8314 - val_loss: 0.5960 - val_accuracy: 0.9500\n",
      "Epoch 6/10\n",
      "6/6 [==============================] - 0s 65ms/step - loss: 0.5694 - accuracy: 0.9822 - val_loss: 0.5262 - val_accuracy: 0.9500\n",
      "Epoch 7/10\n",
      "6/6 [==============================] - 0s 66ms/step - loss: 0.4932 - accuracy: 0.9503 - val_loss: 0.4353 - val_accuracy: 0.9500\n",
      "Epoch 8/10\n",
      "6/6 [==============================] - 0s 59ms/step - loss: 0.3875 - accuracy: 0.9638 - val_loss: 0.3306 - val_accuracy: 0.9000\n",
      "Epoch 9/10\n",
      "6/6 [==============================] - 0s 62ms/step - loss: 0.2930 - accuracy: 0.9345 - val_loss: 0.2470 - val_accuracy: 0.9500\n",
      "Epoch 10/10\n",
      "6/6 [==============================] - 0s 61ms/step - loss: 0.2055 - accuracy: 0.9499 - val_loss: 0.2219 - val_accuracy: 0.9500\n"
     ]
    },
    {
     "data": {
      "text/plain": [
       "<tensorflow.python.keras.callbacks.History at 0x1db1a897cd0>"
      ]
     },
     "execution_count": 36,
     "metadata": {},
     "output_type": "execute_result"
    }
   ],
   "source": [
    "import tensorflow as tf\n",
    "from tensorflow.keras.models import Sequential\n",
    "from tensorflow.keras.layers import Dense, Dropout, Activation, Flatten, Conv2D, MaxPooling2D\n",
    "import pickle\n",
    "import numpy as np\n",
    "\n",
    "X = pickle.load(open(\"X.pickle\",\"rb\"))\n",
    "y = pickle.load(open(\"y.pickle\",\"rb\"))\n",
    "\n",
    "y = np.array(y)\n",
    "X = X/255.0\n",
    "\n",
    "model = Sequential()\n",
    "model.add(Conv2D(64, (3,3), input_shape = X.shape[1:]))\n",
    "model.add(Activation(\"relu\"))\n",
    "model.add(MaxPooling2D(pool_size= (2,2)))\n",
    "\n",
    "model.add(Conv2D(64, (3,3)))\n",
    "model.add(Activation(\"relu\"))\n",
    "model.add(MaxPooling2D(pool_size= (2,2)))\n",
    "          \n",
    "          \n",
    "model.add(Flatten())\n",
    "model.add(Dense(64))\n",
    "\n",
    "model.add(Dense(1))\n",
    "model.add(Activation('sigmoid'))\n",
    "\n",
    "model.compile(loss=\"binary_crossentropy\", #binary_crossentropy categorical_crossentropy\n",
    "              optimizer = \"adam\",\n",
    "              metrics=['accuracy'])\n",
    "\n",
    "\n",
    "model.fit(X, y, batch_size=32, epochs = 10, validation_split=0.1)\n",
    "#model.fit(X, y, batch_size=32, epochs=2, validation_split=0.3)"
   ]
  },
  {
   "cell_type": "code",
   "execution_count": null,
   "id": "bigger-intranet",
   "metadata": {},
   "outputs": [],
   "source": [
    "\n"
   ]
  },
  {
   "cell_type": "code",
   "execution_count": null,
   "id": "norwegian-bullet",
   "metadata": {},
   "outputs": [],
   "source": []
  },
  {
   "cell_type": "code",
   "execution_count": null,
   "id": "national-pattern",
   "metadata": {},
   "outputs": [],
   "source": []
  }
 ],
 "metadata": {
  "kernelspec": {
   "display_name": "Python 3 (ipykernel)",
   "language": "python",
   "name": "python3"
  },
  "language_info": {
   "codemirror_mode": {
    "name": "ipython",
    "version": 3
   },
   "file_extension": ".py",
   "mimetype": "text/x-python",
   "name": "python",
   "nbconvert_exporter": "python",
   "pygments_lexer": "ipython3",
   "version": "3.8.8"
  }
 },
 "nbformat": 4,
 "nbformat_minor": 5
}
